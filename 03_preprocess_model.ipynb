{
 "cells": [
  {
   "cell_type": "markdown",
   "metadata": {},
   "source": [
    "# <img src=\"./resources/GA.png\" width=\"25\" height=\"25\" />   <span style=\"color:Purple\">Project 5 :  Food Insecurity Regression Study</span> \n",
    "---\n",
    "## <span style=\"color:Green\">Preprocessing / Modeling</span>      \n",
    "\n",
    "#### Alec Edgecliffe-Johnson, Ryan McDonald, Andrew Roberts, Ira Seidman - General Assembly \n",
    "\n",
    "\n",
    "\n",
    "---"
   ]
  },
  {
   "cell_type": "markdown",
   "metadata": {},
   "source": [
    "### Notebook Contents:\n",
    "\n",
    "- [Reading the Data](#intro)\n",
    "- [Modeling](#modeling)\n",
    "    - [Production Model, LinReg](#prod)\n",
    "         - [Extended Analysis](#analysis)\n",
    "    - [Model #2, KNN](#second)\n",
    "    - [Model #3, Decision Tree](#third)\n",
    "    - [Model #4, PolyFeat, LinReg](#fourth)\n",
    "    - [Model #5, ADA Boost](#fifth)\n",
    "    - [Model #6, SVM](#sixth)\n",
    "    - [Model #7, TensorFlow NN](#seventh)\n",
    "    - [Model #8, RandomForest](#eigth)\n",
    "    - [Model #9, PCA, LinRe](#ninth)\n"
   ]
  },
  {
   "cell_type": "markdown",
   "metadata": {},
   "source": [
    "**Imports**"
   ]
  },
  {
   "cell_type": "code",
   "execution_count": 1,
   "metadata": {},
   "outputs": [],
   "source": [
    "# Data manipulation imports\n",
    "import pandas as pd\n",
    "import numpy as np\n",
    "\n",
    "# Plotting imports\n",
    "import matplotlib.pyplot as plt\n",
    "import seaborn as sns\n",
    "\n",
    "# SciKit Learn Processing/ Modeling Imports\n",
    "from sklearn.model_selection import train_test_split, GridSearchCV, cross_val_score\n",
    "from sklearn.pipeline import Pipeline\n",
    "from sklearn.metrics import r2_score, mean_squared_error\n",
    "from sklearn import metrics\n",
    "from sklearn.preprocessing import StandardScaler, PolynomialFeatures\n",
    "from sklearn.linear_model import LinearRegression, LassoCV\n",
    "from sklearn.neighbors import KNeighborsRegressor\n",
    "from sklearn.tree import DecisionTreeRegressor\n",
    "from sklearn.ensemble import BaggingRegressor, RandomForestRegressor, AdaBoostRegressor\n",
    "from sklearn.svm import SVR\n",
    "from sklearn.decomposition import PCA\n",
    "\n",
    "# Tensor Flow, Keras NN\n",
    "from tensorflow.keras.metrics import RootMeanSquaredError\n",
    "from tensorflow.keras.models import Sequential\n",
    "from tensorflow.keras.layers import Dense, Dropout, BatchNormalization\n",
    "from tensorflow.keras.regularizers import l1, l2, l1_l2\n",
    "from tensorflow.keras.callbacks import EarlyStopping\n",
    "from tensorflow.keras.models import load_model\n",
    "from tensorflow.keras.wrappers.scikit_learn import KerasRegressor\n",
    "from tensorflow.keras.utils import plot_model"
   ]
  },
  {
   "cell_type": "markdown",
   "metadata": {},
   "source": [
    "<a id='intro'></a>\n",
    "\n",
    "## 1. Read the Data\n",
    "Read in data for each of the different imputation files - mean, median, mode, knn, lr, and rf"
   ]
  },
  {
   "cell_type": "code",
   "execution_count": 2,
   "metadata": {},
   "outputs": [],
   "source": [
    "df_mean = pd.read_csv('cleaned_dataframes/df_m_mean.csv')\n",
    "df_median = pd.read_csv('cleaned_dataframes/df_m_median.csv')\n",
    "df_mode = pd.read_csv('cleaned_dataframes/df_m_mode.csv')\n",
    "df_knn = pd.read_csv('cleaned_dataframes/df_m_knn.csv')\n",
    "df_lr = pd.read_csv('cleaned_dataframes/df_m_lr.csv')\n",
    "df_rf = pd.read_csv('cleaned_dataframes/df_m_rf.csv')"
   ]
  },
  {
   "cell_type": "markdown",
   "metadata": {},
   "source": [
    "<a id='modeling'></a>\n",
    "## Modeling Pre-work\n",
    "\n",
    "**Setting X, y and Train-Test-Split for Each Imputation on Production Model**"
   ]
  },
  {
   "cell_type": "code",
   "execution_count": 3,
   "metadata": {},
   "outputs": [],
   "source": [
    "features_to_drop = ['ch_fi_rate_18', 'fi_rate_18', 'cpm_18', 'state_abr', 'state_name', 'fips', 'county']\n",
    "dummified_features_to_drop = ['ch_fi_rate_18', 'fi_rate_18', 'cpm_18',  'fips']\n",
    "\n",
    "# Also drop all the dummy variables from the 'state_abr', 'state_name', and 'county' columns in df_knn, df_lr, and df_rf \n",
    "for col in df_lr.columns:\n",
    "    #print(col)\n",
    "    if (col.startswith(\"state_abr\") or col.startswith(\"state_name\") or col.startswith(\"county\")):\n",
    "        dummified_features_to_drop.append(col)\n",
    "\n",
    "# Set X and y for each imputation\n",
    "X_mean, X_median, X_mode, X_knn, X_lr, X_rf = df_mean.drop(features_to_drop, axis = 1), df_median.drop(features_to_drop, axis = 1), df_mode.drop(features_to_drop, axis = 1), df_knn.drop(dummified_features_to_drop, axis = 1), df_lr.drop(dummified_features_to_drop, axis = 1), df_rf.drop(dummified_features_to_drop, axis = 1)\n",
    "y_mean, y_median, y_mode, y_knn, y_lr, y_rf = df_mean['fi_rate_18'], df_median['fi_rate_18'], df_mode['fi_rate_18'], df_knn['fi_rate_18'], df_lr['fi_rate_18'], df_rf['fi_rate_18']\n",
    "\n",
    "# Train-test splits\n",
    "X_train_mean, X_test_mean, y_train_mean, y_test_mean = train_test_split(X_mean, y_mean, random_state = 1)\n",
    "X_train_median, X_test_median, y_train_median, y_test_median = train_test_split(X_median, y_median, random_state = 1)\n",
    "X_train_mode, X_test_mode, y_train_mode, y_test_mode = train_test_split(X_mode, y_mode, random_state = 1)\n",
    "X_train_knn, X_test_knn, y_train_knn, y_test_knn = train_test_split(X_knn, y_knn, random_state = 1)\n",
    "X_train_lr, X_test_lr, y_train_lr, y_test_lr = train_test_split(X_lr, y_lr, random_state = 1)\n",
    "X_train_rf, X_test_rf, y_train_rf, y_test_rf = train_test_split(X_rf, y_rf, random_state = 1)"
   ]
  },
  {
   "cell_type": "code",
   "execution_count": 4,
   "metadata": {},
   "outputs": [],
   "source": [
    "# Scale data for each imptation\n",
    "ss = StandardScaler()\n",
    "\n",
    "Z_train_mean, Z_train_median, Z_train_mode, Z_train_knn, Z_train_lr, Z_train_rf = ss.fit_transform(X_train_mean), ss.fit_transform(X_train_median), ss.fit_transform(X_train_mode), ss.fit_transform(X_train_knn), ss.fit_transform(X_train_lr), ss.fit_transform(X_train_rf)\n",
    "Z_test_mean, Z_test_median, Z_test_mode, Z_test_knn, Z_test_lr, Z_test_rf = ss.transform(X_test_mean), ss.transform(X_test_median), ss.transform(X_test_mode), ss.transform(X_test_knn), ss.transform(X_test_lr), ss.transform(X_test_rf)\n",
    "\n",
    "y_trains = [y_mean, y_median, y_mode, y_knn, y_lr, y_rf]\n",
    "Z_trains = [Z_train_mean, Z_train_median, Z_train_mode, Z_train_knn, Z_train_lr, Z_train_rf]"
   ]
  },
  {
   "cell_type": "markdown",
   "metadata": {},
   "source": [
    "<a id='prod'></a>\n",
    "### Model 1: Production Model\n",
    "\n",
    "**Linear Regression w/ Imputations**"
   ]
  },
  {
   "cell_type": "code",
   "execution_count": 5,
   "metadata": {},
   "outputs": [
    {
     "data": {
      "text/plain": [
       "dict_keys(['copy_X', 'fit_intercept', 'n_jobs', 'normalize'])"
      ]
     },
     "execution_count": 5,
     "metadata": {},
     "output_type": "execute_result"
    }
   ],
   "source": [
    "LinearRegression().get_params().keys()"
   ]
  },
  {
   "cell_type": "code",
   "execution_count": 6,
   "metadata": {},
   "outputs": [
    {
     "data": {
      "text/html": [
       "<div>\n",
       "<style scoped>\n",
       "    .dataframe tbody tr th:only-of-type {\n",
       "        vertical-align: middle;\n",
       "    }\n",
       "\n",
       "    .dataframe tbody tr th {\n",
       "        vertical-align: top;\n",
       "    }\n",
       "\n",
       "    .dataframe thead th {\n",
       "        text-align: right;\n",
       "    }\n",
       "</style>\n",
       "<table border=\"1\" class=\"dataframe\">\n",
       "  <thead>\n",
       "    <tr style=\"text-align: right;\">\n",
       "      <th></th>\n",
       "      <th>gs_lr_mean</th>\n",
       "      <th>gs_lr_median</th>\n",
       "      <th>gs_lr_mode</th>\n",
       "      <th>gs_lr_knn</th>\n",
       "      <th>gs_lr_lr</th>\n",
       "      <th>gs_lr_rf</th>\n",
       "    </tr>\n",
       "  </thead>\n",
       "  <tbody>\n",
       "    <tr>\n",
       "      <th>0</th>\n",
       "      <td>0.932081</td>\n",
       "      <td>0.932271</td>\n",
       "      <td>0.931995</td>\n",
       "      <td>0.935029</td>\n",
       "      <td>-474.216</td>\n",
       "      <td>0.935241</td>\n",
       "    </tr>\n",
       "    <tr>\n",
       "      <th>1</th>\n",
       "      <td>{'lr__copy_X': False, 'lr__fit_intercept': Tru...</td>\n",
       "      <td>{'lr__copy_X': False, 'lr__fit_intercept': Tru...</td>\n",
       "      <td>{'lr__copy_X': False, 'lr__fit_intercept': Tru...</td>\n",
       "      <td>{'lr__copy_X': False, 'lr__fit_intercept': Tru...</td>\n",
       "      <td>{'lr__copy_X': False, 'lr__fit_intercept': Tru...</td>\n",
       "      <td>{'lr__copy_X': False, 'lr__fit_intercept': Tru...</td>\n",
       "    </tr>\n",
       "  </tbody>\n",
       "</table>\n",
       "</div>"
      ],
      "text/plain": [
       "                                          gs_lr_mean  \\\n",
       "0                                           0.932081   \n",
       "1  {'lr__copy_X': False, 'lr__fit_intercept': Tru...   \n",
       "\n",
       "                                        gs_lr_median  \\\n",
       "0                                           0.932271   \n",
       "1  {'lr__copy_X': False, 'lr__fit_intercept': Tru...   \n",
       "\n",
       "                                          gs_lr_mode  \\\n",
       "0                                           0.931995   \n",
       "1  {'lr__copy_X': False, 'lr__fit_intercept': Tru...   \n",
       "\n",
       "                                           gs_lr_knn  \\\n",
       "0                                           0.935029   \n",
       "1  {'lr__copy_X': False, 'lr__fit_intercept': Tru...   \n",
       "\n",
       "                                            gs_lr_lr  \\\n",
       "0                                           -474.216   \n",
       "1  {'lr__copy_X': False, 'lr__fit_intercept': Tru...   \n",
       "\n",
       "                                            gs_lr_rf  \n",
       "0                                           0.935241  \n",
       "1  {'lr__copy_X': False, 'lr__fit_intercept': Tru...  "
      ]
     },
     "execution_count": 6,
     "metadata": {},
     "output_type": "execute_result"
    }
   ],
   "source": [
    "# Pipeline and gridsearch - linear regression\n",
    "pipe_lr = Pipeline([\n",
    "    ('lr', LinearRegression())\n",
    "])\n",
    "\n",
    "# Gridsearch over the same parameters for all imputation pipes\n",
    "pipe_ln_params = { 'lr__fit_intercept': [False, True],\n",
    "                  'lr__copy_X': [False, True],\n",
    "                  'lr__normalize': [False, True]\n",
    "}\n",
    "\n",
    "pipe_lr_mean, pipe_lr_median, pipe_lr_mode, pipe_lr_knn, pipe_lr_lr, pipe_lr_rf = pipe_lr.fit(Z_train_mean, y_train_mean), pipe_lr.fit(Z_train_median, y_train_median), pipe_lr.fit(Z_train_mode, y_train_mode), pipe_lr.fit(Z_train_knn, y_train_knn), pipe_lr.fit(Z_train_lr, y_train_lr), pipe_lr.fit(Z_train_rf, y_train_rf)\n",
    "\n",
    "\n",
    "#Gridsearch on pipes for different imputations\n",
    "gs_lr_mean = GridSearchCV(pipe_lr_mean,\n",
    "                     param_grid = pipe_ln_params,\n",
    "                     cv = 5)\n",
    "gs_lr_median = GridSearchCV(pipe_lr_median,\n",
    "                     param_grid = pipe_ln_params,\n",
    "                     cv = 5)\n",
    "gs_lr_mode = GridSearchCV(pipe_lr_mode,\n",
    "                     param_grid = pipe_ln_params,\n",
    "                     cv = 5)\n",
    "gs_lr_knn = GridSearchCV(pipe_lr_knn,\n",
    "                     param_grid = pipe_ln_params,\n",
    "                     cv = 5)\n",
    "gs_lr_lr = GridSearchCV(pipe_lr_lr,\n",
    "                     param_grid = pipe_ln_params,\n",
    "                     cv = 5)\n",
    "gs_lr_rf = GridSearchCV(pipe_lr_rf,\n",
    "                     param_grid = pipe_ln_params,\n",
    "                     cv = 5)\n",
    "\n",
    "gs_lr_mean.fit(Z_train_mean, y_train_mean), gs_lr_median.fit(Z_train_median, y_train_median), gs_lr_mode.fit(Z_train_mode, y_train_mode), gs_lr_knn.fit(Z_train_knn, y_train_knn), gs_lr_lr.fit(Z_train_lr, y_train_lr), gs_lr_rf.fit(Z_train_rf, y_train_rf)\n",
    "\n",
    "# Return best scores and params for cross-validated pipes\n",
    "lr_pipes = {'gs_lr_mean': [gs_lr_mean.best_score_, gs_lr_mean.best_params_],\n",
    "            'gs_lr_median': [gs_lr_median.best_score_, gs_lr_median.best_params_],\n",
    "            'gs_lr_mode': [gs_lr_mode.best_score_, gs_lr_mode.best_params_],\n",
    "            'gs_lr_knn': [gs_lr_knn.best_score_, gs_lr_knn.best_params_],\n",
    "            'gs_lr_lr': [gs_lr_lr.best_score_, gs_lr_lr.best_params_],\n",
    "            'gs_lr_rf': [gs_lr_rf.best_score_, gs_lr_rf.best_params_]\n",
    "           }\n",
    "\n",
    "gs_lr_results = pd.DataFrame(lr_pipes)\n",
    "gs_lr_results.head()"
   ]
  },
  {
   "cell_type": "code",
   "execution_count": 7,
   "metadata": {},
   "outputs": [
    {
     "data": {
      "text/html": [
       "<div>\n",
       "<style scoped>\n",
       "    .dataframe tbody tr th:only-of-type {\n",
       "        vertical-align: middle;\n",
       "    }\n",
       "\n",
       "    .dataframe tbody tr th {\n",
       "        vertical-align: top;\n",
       "    }\n",
       "\n",
       "    .dataframe thead th {\n",
       "        text-align: right;\n",
       "    }\n",
       "</style>\n",
       "<table border=\"1\" class=\"dataframe\">\n",
       "  <thead>\n",
       "    <tr style=\"text-align: right;\">\n",
       "      <th></th>\n",
       "      <th>Training RMSE</th>\n",
       "      <th>Testing RMSE</th>\n",
       "      <th>Training R2</th>\n",
       "      <th>Testing R2</th>\n",
       "    </tr>\n",
       "  </thead>\n",
       "  <tbody>\n",
       "    <tr>\n",
       "      <th>gs_lr_mean training score:</th>\n",
       "      <td>0.9446</td>\n",
       "      <td>0.9442</td>\n",
       "      <td>0.9402</td>\n",
       "      <td>0.9346</td>\n",
       "    </tr>\n",
       "    <tr>\n",
       "      <th>gs_lr_median training score:</th>\n",
       "      <td>3.7185</td>\n",
       "      <td>0.9406</td>\n",
       "      <td>0.9402</td>\n",
       "      <td>0.9347</td>\n",
       "    </tr>\n",
       "    <tr>\n",
       "      <th>gs_lr_mode training score:</th>\n",
       "      <td>0.9453</td>\n",
       "      <td>0.9517</td>\n",
       "      <td>0.9397</td>\n",
       "      <td>0.9342</td>\n",
       "    </tr>\n",
       "    <tr>\n",
       "      <th>gs_lr_knn training score:</th>\n",
       "      <td>0.9256</td>\n",
       "      <td>0.9462</td>\n",
       "      <td>0.9403</td>\n",
       "      <td>0.9353</td>\n",
       "    </tr>\n",
       "    <tr>\n",
       "      <th>gs_lr_lr training score:</th>\n",
       "      <td>3.7185</td>\n",
       "      <td>20309.0698</td>\n",
       "      <td>-30412.6993</td>\n",
       "      <td>-32577.6176</td>\n",
       "    </tr>\n",
       "    <tr>\n",
       "      <th>gs_lr_rf training score:</th>\n",
       "      <td>0.9256</td>\n",
       "      <td>0.9337</td>\n",
       "      <td>0.9404</td>\n",
       "      <td>0.9353</td>\n",
       "    </tr>\n",
       "  </tbody>\n",
       "</table>\n",
       "</div>"
      ],
      "text/plain": [
       "                               Training RMSE  Testing RMSE  Training R2  \\\n",
       "gs_lr_mean training score:            0.9446        0.9442       0.9402   \n",
       "gs_lr_median training score:          3.7185        0.9406       0.9402   \n",
       "gs_lr_mode training score:            0.9453        0.9517       0.9397   \n",
       "gs_lr_knn training score:             0.9256        0.9462       0.9403   \n",
       "gs_lr_lr training score:              3.7185    20309.0698  -30412.6993   \n",
       "gs_lr_rf training score:              0.9256        0.9337       0.9404   \n",
       "\n",
       "                               Testing R2  \n",
       "gs_lr_mean training score:         0.9346  \n",
       "gs_lr_median training score:       0.9347  \n",
       "gs_lr_mode training score:         0.9342  \n",
       "gs_lr_knn training score:          0.9353  \n",
       "gs_lr_lr training score:      -32577.6176  \n",
       "gs_lr_rf training score:           0.9353  "
      ]
     },
     "execution_count": 7,
     "metadata": {},
     "output_type": "execute_result"
    }
   ],
   "source": [
    "# Reinstantiate pipe_lr with gridsearched parameters\n",
    "pipe_lr = Pipeline([\n",
    "    ('lr', LinearRegression(copy_X = False, fit_intercept = True, normalize = False))\n",
    "])\n",
    "pipe_lr_rf = pipe_lr.fit(Z_train_mean, y_train_mean) \n",
    "\n",
    "lr_mean_preds_train, lr_median_preds_train, lr_mode_preds_train, lr_knn_preds_train, lr_lr_preds_train, lr_rf_preds_train = gs_lr_mean.predict(Z_train_mean), gs_lr_median.predict(Z_train_median), gs_lr_mode.predict(Z_train_mode), gs_lr_knn.predict(Z_train_knn), gs_lr_lr.predict(Z_train_lr), gs_lr_rf.predict(Z_train_rf)\n",
    "lr_mean_preds_test, lr_median_preds_test, lr_mode_preds_test, lr_knn_preds_test, lr_lr_preds_test, lr_rf_preds_test = gs_lr_mean.predict(Z_test_mean), gs_lr_median.predict(Z_test_median), gs_lr_mode.predict(Z_test_mode), gs_lr_knn.predict(Z_test_knn), gs_lr_lr.predict(Z_test_lr), gs_lr_rf.predict(Z_test_rf)\n",
    "\n",
    "# Return best scores and params for predictions based off of training data\n",
    "lr_mse_results = {'gs_lr_mean training score: ' : [mean_squared_error(y_train_mean, lr_mean_preds_train, squared = False), mean_squared_error(y_test_mean, lr_mean_preds_test, squared = False), gs_lr_mean.score(Z_train_rf, y_train_rf), gs_lr_mean.score(Z_test_rf, y_test_rf)],\n",
    "                  'gs_lr_median training score: ' : [mean_squared_error(y_train_median, lr_median_preds_train, squared = False), mean_squared_error(y_test_median, lr_median_preds_test, squared = False), gs_lr_median.score(Z_train_rf, y_train_rf), gs_lr_median.score(Z_test_rf, y_test_rf)],\n",
    "                  'gs_lr_mode training score: ' : [mean_squared_error(y_train_mode, lr_mode_preds_train, squared = False), mean_squared_error(y_test_mode, lr_mode_preds_test, squared = False), gs_lr_mode.score(Z_train_rf, y_train_rf), gs_lr_mode.score(Z_test_rf, y_test_rf)],\n",
    "                  'gs_lr_knn training score: ' : [mean_squared_error(y_train_knn, lr_knn_preds_train, squared = False), mean_squared_error(y_test_knn, lr_knn_preds_test, squared = False), gs_lr_knn.score(Z_train_rf, y_train_rf), gs_lr_knn.score(Z_test_rf, y_test_rf)],\n",
    "                  'gs_lr_lr training score: ' : [mean_squared_error(y_train_lr, lr_lr_preds_train, squared = False), mean_squared_error(y_test_lr, lr_lr_preds_test, squared = False), gs_lr_lr.score(Z_train_rf, y_train_rf), gs_lr_lr.score(Z_test_rf, y_test_rf)],\n",
    "                  'gs_lr_rf training score: ' : [mean_squared_error(y_train_rf, lr_rf_preds_train, squared = False), mean_squared_error(y_test_rf, lr_rf_preds_test, squared = False), gs_lr_rf.score(Z_train_rf, y_train_rf), gs_lr_rf.score(Z_test_rf, y_test_rf)]\n",
    "                 }\n",
    "\n",
    "lr_mse_results = pd.DataFrame(lr_mse_results, index = ['Training RMSE', 'Testing RMSE', 'Training R2', 'Testing R2']).T\n",
    "pd.options.display.float_format = '{:.4f}'.format\n",
    "lr_mse_results"
   ]
  },
  {
   "cell_type": "markdown",
   "metadata": {},
   "source": [
    "With our highest performing imputation utilizing Random Forest Regression, our model predicts Food Insecurity Rates, on average, within 0.93 points of the actual data.  One could assume this model could be successful in predicting Food Insecurity well when approached by unseen data. The linear regression imputation results appear to show an error, which should be investigated, however the production model will not be utilizing this imputation method."
   ]
  },
  {
   "cell_type": "code",
   "execution_count": 8,
   "metadata": {},
   "outputs": [
    {
     "data": {
      "text/html": [
       "<div>\n",
       "<style scoped>\n",
       "    .dataframe tbody tr th:only-of-type {\n",
       "        vertical-align: middle;\n",
       "    }\n",
       "\n",
       "    .dataframe tbody tr th {\n",
       "        vertical-align: top;\n",
       "    }\n",
       "\n",
       "    .dataframe thead th {\n",
       "        text-align: right;\n",
       "    }\n",
       "</style>\n",
       "<table border=\"1\" class=\"dataframe\">\n",
       "  <thead>\n",
       "    <tr style=\"text-align: right;\">\n",
       "      <th></th>\n",
       "      <th>features</th>\n",
       "      <th>coefficients</th>\n",
       "    </tr>\n",
       "  </thead>\n",
       "  <tbody>\n",
       "    <tr>\n",
       "      <th>44</th>\n",
       "      <td>percent_disabled</td>\n",
       "      <td>0.8447</td>\n",
       "    </tr>\n",
       "    <tr>\n",
       "      <th>16</th>\n",
       "      <td>percent_children_in_poverty</td>\n",
       "      <td>0.5643</td>\n",
       "    </tr>\n",
       "    <tr>\n",
       "      <th>5</th>\n",
       "      <td>percent_fair_or_poor_health</td>\n",
       "      <td>0.3676</td>\n",
       "    </tr>\n",
       "    <tr>\n",
       "      <th>28</th>\n",
       "      <td>percent_severe_housing_cost_burden</td>\n",
       "      <td>0.3301</td>\n",
       "    </tr>\n",
       "    <tr>\n",
       "      <th>39</th>\n",
       "      <td>percent_below_poverty</td>\n",
       "      <td>0.2292</td>\n",
       "    </tr>\n",
       "    <tr>\n",
       "      <th>18</th>\n",
       "      <td>percent_single_parent_households_CHR</td>\n",
       "      <td>0.1750</td>\n",
       "    </tr>\n",
       "    <tr>\n",
       "      <th>20</th>\n",
       "      <td>percent_severe_housing_problems</td>\n",
       "      <td>0.1750</td>\n",
       "    </tr>\n",
       "    <tr>\n",
       "      <th>17</th>\n",
       "      <td>num_households_CHR</td>\n",
       "      <td>0.1576</td>\n",
       "    </tr>\n",
       "    <tr>\n",
       "      <th>6</th>\n",
       "      <td>average_number_of_mentally_unhealthy_days</td>\n",
       "      <td>0.1482</td>\n",
       "    </tr>\n",
       "    <tr>\n",
       "      <th>40</th>\n",
       "      <td>percent_unemployed_CDC</td>\n",
       "      <td>0.1468</td>\n",
       "    </tr>\n",
       "  </tbody>\n",
       "</table>\n",
       "</div>"
      ],
      "text/plain": [
       "                                     features  coefficients\n",
       "44                           percent_disabled        0.8447\n",
       "16                percent_children_in_poverty        0.5643\n",
       "5                 percent_fair_or_poor_health        0.3676\n",
       "28         percent_severe_housing_cost_burden        0.3301\n",
       "39                      percent_below_poverty        0.2292\n",
       "18       percent_single_parent_households_CHR        0.1750\n",
       "20            percent_severe_housing_problems        0.1750\n",
       "17                         num_households_CHR        0.1576\n",
       "6   average_number_of_mentally_unhealthy_days        0.1482\n",
       "40                     percent_unemployed_CDC        0.1468"
      ]
     },
     "execution_count": 8,
     "metadata": {},
     "output_type": "execute_result"
    }
   ],
   "source": [
    "# Show ten strongest features for best testing model - random forest imputation\n",
    "coefs_lr = pipe_lr.named_steps['lr'].coef_.flatten()\n",
    "feature_names_dummified = list(X_train_rf.columns) #list of features to use when outputting feature weights\n",
    "\n",
    "model_zip = zip(feature_names_dummified, coefs_lr)\n",
    "model_zip_df = pd.DataFrame(model_zip, columns = ['features', 'coefficients'])\n",
    "model_zip_df.sort_values(by = 'coefficients', ascending = False).head(10)"
   ]
  },
  {
   "cell_type": "markdown",
   "metadata": {},
   "source": [
    "<a id='analysis'></a>\n",
    "### Production Model Analysis "
   ]
  },
  {
   "cell_type": "markdown",
   "metadata": {},
   "source": [
    "The best model fit was the linear regression using the random forest imputation data. Below are all the additional models fit, but none beat a testing RMSE of .9334 that weren't tremendously computationally intensive. This model may be slightly underfit, but not enough to try and introduce more variance with more data/columns.\n",
    "\n",
    "Testing results are strong with Linear Regression incorporating Random Forest null imputation.  Considering all of the additional modeling techniques explored, it was surprising that a more straightforward, Linear Regression would offer such good results as well as be easily interpretable.  \n",
    "\n",
    "Utilizing all of our numerical features shows a good fit on testing results,  **0.935**  Looking into our feature coefficients (top ten shown above) although not all features show a positive coefficient, all else held equal, ‘percent_disabled’ had the highest coefficients with a 0.845% increase in food insecurity per percent increase in 'percent_disabled'. Several other features, ‘percent_children_in_poverty’, ‘percent_fair_or_poor_health’ and ‘percent_severe_housing_cost_burden’, among others, rounded the top of the list.\n",
    "The predictive power of these features aren’t a surprise.  One could assume with limited resources or physical health, food insecurity could follow.  What’s most meaningful is the top ten features all exhibit an assumed ‘negative’ condition.  And the combination of these features can have a detrimental effect to one's well being.  \n",
    "\n",
    "\n"
   ]
  },
  {
   "cell_type": "markdown",
   "metadata": {},
   "source": [
    "<a id='second'></a>\n",
    "### Model 2: KNN"
   ]
  },
  {
   "cell_type": "code",
   "execution_count": 9,
   "metadata": {},
   "outputs": [
    {
     "data": {
      "text/plain": [
       "dict_keys(['algorithm', 'leaf_size', 'metric', 'metric_params', 'n_jobs', 'n_neighbors', 'p', 'weights'])"
      ]
     },
     "execution_count": 9,
     "metadata": {},
     "output_type": "execute_result"
    }
   ],
   "source": [
    "KNeighborsRegressor().get_params().keys()"
   ]
  },
  {
   "cell_type": "code",
   "execution_count": 10,
   "metadata": {},
   "outputs": [],
   "source": [
    "# Pipeline and gridsearch - knn\n",
    "pipe_knn = Pipeline([\n",
    "    ('knn', KNeighborsRegressor())\n",
    "])\n",
    "\n",
    "pipe_knn_params = {'knn__n_neighbors': [5, 10, 20, 30, 40, 50, 60, 70, 80, 90, 100]\n",
    "                  }\n",
    "\n",
    "pipe_knn.fit(Z_train_rf, y_train_rf)\n",
    "\n",
    "gs_knn = GridSearchCV(pipe_knn, \n",
    "                        param_grid = pipe_knn_params, \n",
    "                        cv = 5)\n",
    "\n",
    "gs_knn.fit(Z_train_rf, y_train_rf);"
   ]
  },
  {
   "cell_type": "code",
   "execution_count": 11,
   "metadata": {},
   "outputs": [
    {
     "name": "stdout",
     "output_type": "stream",
     "text": [
      "Best score: 0.8565584879104142\n",
      "Best parameters: {'knn__n_neighbors': 5}\n"
     ]
    }
   ],
   "source": [
    "print(f'Best score: {gs_knn.best_score_}')\n",
    "print(f'Best parameters: {gs_knn.best_params_}')"
   ]
  },
  {
   "cell_type": "code",
   "execution_count": 12,
   "metadata": {},
   "outputs": [
    {
     "name": "stdout",
     "output_type": "stream",
     "text": [
      "Knn Training RMSE: 1.1498330350501194\n",
      "Knn Testing RMSE: 1.4745005415847627\n",
      "Training R2: 0.9080412023509364\n",
      "Testing R2: 0.8385740191315335\n"
     ]
    }
   ],
   "source": [
    "knn_preds_train = gs_knn.predict(Z_train_rf)\n",
    "knn_preds_test = gs_knn.predict(Z_test_rf)\n",
    "\n",
    "print(f'Knn Training RMSE: {mean_squared_error(y_train_rf, knn_preds_train, squared = False)}')\n",
    "print(f'Knn Testing RMSE: {mean_squared_error(y_test_rf, knn_preds_test, squared = False)}')\n",
    "print(f'Training R2: {pipe_knn.score(Z_train_rf, y_train_rf)}')\n",
    "print(f'Testing R2: {pipe_knn.score(Z_test_rf, y_test_rf)}')"
   ]
  },
  {
   "cell_type": "markdown",
   "metadata": {},
   "source": [
    "**Quick Analysis**"
   ]
  },
  {
   "cell_type": "markdown",
   "metadata": {},
   "source": [
    "RMSE does not beat linear regression for any value of k. This model could be better fit, but it is not close enough to production model to attempt."
   ]
  },
  {
   "cell_type": "markdown",
   "metadata": {},
   "source": [
    "<a id='third'></a>\n",
    "### Model 3: Decision Tree"
   ]
  },
  {
   "cell_type": "code",
   "execution_count": 13,
   "metadata": {},
   "outputs": [
    {
     "data": {
      "text/plain": [
       "dict_keys(['ccp_alpha', 'criterion', 'max_depth', 'max_features', 'max_leaf_nodes', 'min_impurity_decrease', 'min_impurity_split', 'min_samples_leaf', 'min_samples_split', 'min_weight_fraction_leaf', 'presort', 'random_state', 'splitter'])"
      ]
     },
     "execution_count": 13,
     "metadata": {},
     "output_type": "execute_result"
    }
   ],
   "source": [
    "DecisionTreeRegressor().get_params().keys()"
   ]
  },
  {
   "cell_type": "code",
   "execution_count": 14,
   "metadata": {},
   "outputs": [
    {
     "data": {
      "text/plain": [
       "{'ccp_alpha': 0.0,\n",
       " 'criterion': 'mse',\n",
       " 'max_depth': None,\n",
       " 'max_features': None,\n",
       " 'max_leaf_nodes': None,\n",
       " 'min_impurity_decrease': 0.0,\n",
       " 'min_impurity_split': None,\n",
       " 'min_samples_leaf': 1,\n",
       " 'min_samples_split': 2,\n",
       " 'min_weight_fraction_leaf': 0.0,\n",
       " 'presort': 'deprecated',\n",
       " 'random_state': None,\n",
       " 'splitter': 'best'}"
      ]
     },
     "execution_count": 14,
     "metadata": {},
     "output_type": "execute_result"
    }
   ],
   "source": [
    "DecisionTreeRegressor().get_params()"
   ]
  },
  {
   "cell_type": "code",
   "execution_count": 15,
   "metadata": {},
   "outputs": [
    {
     "data": {
      "text/plain": [
       "GridSearchCV(cv=5, estimator=Pipeline(steps=[('dt', DecisionTreeRegressor())]),\n",
       "             param_grid={'dt__max_depth': [2, 4, 6, 8, 10, 12],\n",
       "                         'dt__max_features': ['auto', 'log2']})"
      ]
     },
     "execution_count": 15,
     "metadata": {},
     "output_type": "execute_result"
    }
   ],
   "source": [
    "# Pipeline and gridsearch - decision tree\n",
    "pipe_dt = Pipeline([\n",
    "    ('dt', DecisionTreeRegressor())\n",
    "])\n",
    "\n",
    "pipe_dt_params = {'dt__max_depth': [5, 10, None], \n",
    "                  'dt__max_features': ['auto', 'log2'], \n",
    "                  'dt__max_depth': [2, 4, 6, 8, 10, 12]\n",
    "                 }\n",
    "\n",
    "pipe_dt.fit(Z_train_rf, y_train_rf)\n",
    "gs_dt = GridSearchCV(pipe_dt, \n",
    "                     param_grid = pipe_dt_params,\n",
    "                     cv = 5)\n",
    "\n",
    "gs_dt.fit(Z_train_rf, y_train_rf)"
   ]
  },
  {
   "cell_type": "code",
   "execution_count": 16,
   "metadata": {},
   "outputs": [
    {
     "name": "stdout",
     "output_type": "stream",
     "text": [
      "Best score: 0.799354927181817\n",
      "Best parameters: {'dt__max_depth': 6, 'dt__max_features': 'auto'}\n"
     ]
    }
   ],
   "source": [
    "print(f'Best score: {gs_dt.best_score_}')\n",
    "print(f'Best parameters: {gs_dt.best_params_}')"
   ]
  },
  {
   "cell_type": "code",
   "execution_count": 17,
   "metadata": {},
   "outputs": [
    {
     "name": "stdout",
     "output_type": "stream",
     "text": [
      "Dt training RMSE: 1.1498330350501194\n",
      "Dt testing RMSE: 1.4745005415847627\n",
      "Dt training R2: 1.0\n",
      "Dt testing R2: 0.7484910326218636\n"
     ]
    }
   ],
   "source": [
    "dt_preds_train = gs_dt.predict(Z_train_rf)\n",
    "dt_preds_test = gs_dt.predict(Z_test_rf)\n",
    "\n",
    "print(f'Dt training RMSE: {mean_squared_error(y_train_rf, knn_preds_train, squared = False)}')\n",
    "print(f'Dt testing RMSE: {mean_squared_error(y_test_rf, knn_preds_test, squared = False)}')\n",
    "print(f'Dt training R2: {pipe_dt.score(Z_train_rf, y_train_rf)}')\n",
    "print(f'Dt testing R2: {pipe_dt.score(Z_test_rf, y_test_rf)}')"
   ]
  },
  {
   "cell_type": "markdown",
   "metadata": {},
   "source": [
    "**Quick Analysis**"
   ]
  },
  {
   "cell_type": "markdown",
   "metadata": {},
   "source": [
    "RMSE does not beat linear regression for any combination of hyperparameters. This model is very overfit, but it is not close enough to production model to attempt.\n",
    "DT Regressor shows significant overfitting.  This can be resolved by increasing bias/ reducing the number of features utilized, including a Random Forest analysis, etc. But, with the relative scores and development of the production model, this model was abandoned."
   ]
  },
  {
   "cell_type": "markdown",
   "metadata": {},
   "source": [
    "<a id='fourth'></a>\n",
    "### Model 4: PolynomialFeatures with StandardScalar and Linear Regression"
   ]
  },
  {
   "cell_type": "code",
   "execution_count": 18,
   "metadata": {},
   "outputs": [],
   "source": [
    "poly_features = ['percent_children_in_poverty', 'percent_below_poverty', 'percent_fair_or_poor_health',\n",
    "                 'pct_overall_pov_19','percentile_rank_social_vulnerability']\n",
    "\n",
    "X_rf = df_rf[poly_features]\n",
    "y_rf = df_rf['fi_rate_18']\n",
    "\n",
    "X_train, X_test, y_train, y_test = train_test_split(X_rf,\n",
    "                                                    y_rf,\n",
    "                                                    random_state = 1)\n",
    "pf = PolynomialFeatures(degree = 2)\n",
    "X_train_pf = pf.fit_transform(X_train)\n",
    "X_test_pf = pf.transform(X_test)"
   ]
  },
  {
   "cell_type": "code",
   "execution_count": 19,
   "metadata": {},
   "outputs": [
    {
     "data": {
      "text/plain": [
       "(dict_keys(['copy_X', 'fit_intercept', 'n_jobs', 'normalize']),\n",
       " dict_keys(['degree', 'include_bias', 'interaction_only', 'order']))"
      ]
     },
     "execution_count": 19,
     "metadata": {},
     "output_type": "execute_result"
    }
   ],
   "source": [
    "LinearRegression().get_params().keys(), PolynomialFeatures().get_params().keys()"
   ]
  },
  {
   "cell_type": "code",
   "execution_count": 20,
   "metadata": {},
   "outputs": [
    {
     "data": {
      "text/plain": [
       "GridSearchCV(cv=5,\n",
       "             estimator=Pipeline(steps=[('ss', StandardScaler()),\n",
       "                                       ('lr', LinearRegression())]),\n",
       "             param_grid={'lr__fit_intercept': [True, False],\n",
       "                         'lr__normalize': [True, False]})"
      ]
     },
     "execution_count": 20,
     "metadata": {},
     "output_type": "execute_result"
    }
   ],
   "source": [
    "# Pipeline and gridsearch - polyfeatures\n",
    "pipe_poly_lr = Pipeline([\n",
    "    ('ss', StandardScaler()),\n",
    "    ('lr', LinearRegression()),\n",
    "])\n",
    "\n",
    "pipe_poly_lr_params = {'lr__normalize': [True, False],\n",
    "                       'lr__fit_intercept': [True, False]\n",
    "                  }\n",
    "\n",
    "pipe_poly_lr.fit(X_train_pf, y_train)\n",
    "gs_poly_lr = GridSearchCV(pipe_poly_lr, \n",
    "                        param_grid = pipe_poly_lr_params, \n",
    "                        cv = 5)\n",
    "\n",
    "gs_poly_lr.fit(X_train_pf, y_train)"
   ]
  },
  {
   "cell_type": "code",
   "execution_count": 21,
   "metadata": {},
   "outputs": [
    {
     "name": "stdout",
     "output_type": "stream",
     "text": [
      "Best score: 0.8074070574459841\n",
      "Best parameters: {'lr__fit_intercept': True, 'lr__normalize': True}\n"
     ]
    }
   ],
   "source": [
    "print(f'Best score: {gs_poly_lr.best_score_}')\n",
    "print(f'Best parameters: {gs_poly_lr.best_params_}')"
   ]
  },
  {
   "cell_type": "code",
   "execution_count": 22,
   "metadata": {},
   "outputs": [
    {
     "name": "stdout",
     "output_type": "stream",
     "text": [
      "Poly lr Training RMSE: 1.6383377507745998\n",
      "Poly lr Testing RMSE: 1.7307918859845965\n",
      "Poly lr Training R2: 0.8133058982899347\n",
      "Poly lr Testing R2: 0.7775802940495057\n"
     ]
    }
   ],
   "source": [
    "# Reinstantiate pipe_poly_lr with gridsearched parameters\n",
    "pipe_poly_lr = Pipeline([\n",
    "    ('ss', StandardScaler()),\n",
    "    ('lr', LinearRegression(fit_intercept = True, normalize = True))\n",
    "])\n",
    "pipe_poly_lr = pipe_lr.fit(Z_train_mean, y_train_mean) \n",
    "\n",
    "lr_poly_preds_train = gs_poly_lr.predict(X_train_pf)\n",
    "lr_poly_preds_test = gs_poly_lr.predict(X_test_pf)\n",
    "\n",
    "print(f'Poly lr Training RMSE: {mean_squared_error(y_train, lr_poly_preds_train, squared = False)}')\n",
    "print(f'Poly lr Testing RMSE: {mean_squared_error(y_test, lr_poly_preds_test, squared = False)}')\n",
    "print(f'Poly lr Training R2: {gs_poly_lr.score(X_train_pf, y_train)}')\n",
    "print(f'Poly lr Testing R2: {gs_poly_lr.score(X_test_pf, y_test)}')"
   ]
  },
  {
   "cell_type": "code",
   "execution_count": 23,
   "metadata": {},
   "outputs": [
    {
     "data": {
      "text/html": [
       "<div>\n",
       "<style scoped>\n",
       "    .dataframe tbody tr th:only-of-type {\n",
       "        vertical-align: middle;\n",
       "    }\n",
       "\n",
       "    .dataframe tbody tr th {\n",
       "        vertical-align: top;\n",
       "    }\n",
       "\n",
       "    .dataframe thead th {\n",
       "        text-align: right;\n",
       "    }\n",
       "</style>\n",
       "<table border=\"1\" class=\"dataframe\">\n",
       "  <thead>\n",
       "    <tr style=\"text-align: right;\">\n",
       "      <th></th>\n",
       "      <th>features</th>\n",
       "      <th>coefficients</th>\n",
       "    </tr>\n",
       "  </thead>\n",
       "  <tbody>\n",
       "    <tr>\n",
       "      <th>44</th>\n",
       "      <td>percent_disabled</td>\n",
       "      <td>0.8447</td>\n",
       "    </tr>\n",
       "    <tr>\n",
       "      <th>16</th>\n",
       "      <td>percent_children_in_poverty</td>\n",
       "      <td>0.5643</td>\n",
       "    </tr>\n",
       "    <tr>\n",
       "      <th>5</th>\n",
       "      <td>percent_fair_or_poor_health</td>\n",
       "      <td>0.3676</td>\n",
       "    </tr>\n",
       "    <tr>\n",
       "      <th>28</th>\n",
       "      <td>percent_severe_housing_cost_burden</td>\n",
       "      <td>0.3301</td>\n",
       "    </tr>\n",
       "    <tr>\n",
       "      <th>39</th>\n",
       "      <td>percent_below_poverty</td>\n",
       "      <td>0.2292</td>\n",
       "    </tr>\n",
       "    <tr>\n",
       "      <th>18</th>\n",
       "      <td>percent_single_parent_households_CHR</td>\n",
       "      <td>0.1750</td>\n",
       "    </tr>\n",
       "    <tr>\n",
       "      <th>20</th>\n",
       "      <td>percent_severe_housing_problems</td>\n",
       "      <td>0.1750</td>\n",
       "    </tr>\n",
       "    <tr>\n",
       "      <th>17</th>\n",
       "      <td>num_households_CHR</td>\n",
       "      <td>0.1576</td>\n",
       "    </tr>\n",
       "    <tr>\n",
       "      <th>6</th>\n",
       "      <td>average_number_of_mentally_unhealthy_days</td>\n",
       "      <td>0.1482</td>\n",
       "    </tr>\n",
       "    <tr>\n",
       "      <th>40</th>\n",
       "      <td>percent_unemployed_CDC</td>\n",
       "      <td>0.1468</td>\n",
       "    </tr>\n",
       "  </tbody>\n",
       "</table>\n",
       "</div>"
      ],
      "text/plain": [
       "                                     features  coefficients\n",
       "44                           percent_disabled        0.8447\n",
       "16                percent_children_in_poverty        0.5643\n",
       "5                 percent_fair_or_poor_health        0.3676\n",
       "28         percent_severe_housing_cost_burden        0.3301\n",
       "39                      percent_below_poverty        0.2292\n",
       "18       percent_single_parent_households_CHR        0.1750\n",
       "20            percent_severe_housing_problems        0.1750\n",
       "17                         num_households_CHR        0.1576\n",
       "6   average_number_of_mentally_unhealthy_days        0.1482\n",
       "40                     percent_unemployed_CDC        0.1468"
      ]
     },
     "execution_count": 23,
     "metadata": {},
     "output_type": "execute_result"
    }
   ],
   "source": [
    "# Show ten strongest features for best testing model\n",
    "coefs_lr_poly = pipe_poly_lr.named_steps['lr'].coef_.flatten()\n",
    "model_zip = zip(feature_names_dummified, coefs_lr_poly)\n",
    "model_zip_df = pd.DataFrame(model_zip, columns = ['features', 'coefficients'])\n",
    "model_zip_df.sort_values(by = 'coefficients', ascending = False).head(10)"
   ]
  },
  {
   "cell_type": "markdown",
   "metadata": {},
   "source": [
    "**Will Lasso Improve our Score?**"
   ]
  },
  {
   "cell_type": "code",
   "execution_count": 24,
   "metadata": {},
   "outputs": [
    {
     "data": {
      "text/plain": [
       "LassoCV(max_iter=15000)"
      ]
     },
     "execution_count": 24,
     "metadata": {},
     "output_type": "execute_result"
    }
   ],
   "source": [
    "lasso = LassoCV(max_iter = 15000 )\n",
    "lasso.fit(X_train_pf, y_train)"
   ]
  },
  {
   "cell_type": "code",
   "execution_count": 25,
   "metadata": {},
   "outputs": [
    {
     "name": "stdout",
     "output_type": "stream",
     "text": [
      "Lasso CV Training RMSE: 1.8290381142003298\n",
      "Lasso CV Training RMSE: 1.8633380988879227\n",
      "Lasso CV Training R2: 0.7673145477251163\n",
      "Lasso CV Testing R2: 0.7422095118120987\n"
     ]
    }
   ],
   "source": [
    "lasso_preds_train = lasso.predict(X_train_pf)\n",
    "lasso_preds_test = lasso.predict(X_test_pf)\n",
    "\n",
    "print(f'Lasso CV Training RMSE: {mean_squared_error(y_train, lasso_preds_train, squared = False)}')\n",
    "print(f'Lasso CV Training RMSE: {mean_squared_error(y_test, lasso_preds_test, squared = False)}')\n",
    "print(f\"Lasso CV Training R2: {lasso.score(X_train_pf, y_train)}\")\n",
    "print(f\"Lasso CV Testing R2: {lasso.score(X_test_pf, y_test)}\")"
   ]
  },
  {
   "cell_type": "markdown",
   "metadata": {},
   "source": [
    "**Quick Analysis**"
   ]
  },
  {
   "cell_type": "markdown",
   "metadata": {},
   "source": [
    "RMSE does not beat linear regression for any combination of hyperparameters with poly features. No improvement with lasso and though this model is very overfit, but it is not close enough to production model to attempt.\n",
    "With several different numbers of features tested, adding Lasso, and running a gridseearched pipeline not improving the results, PolynomialFeatures was not selected as the produciton model. It just couldn't out-perform.  We did believe that adding additional engineer features/ feature pairs would increase the performance. But, it did not. "
   ]
  },
  {
   "cell_type": "markdown",
   "metadata": {},
   "source": [
    "<a id='fifth'></a>\n",
    "### Model 5: ADA Boost"
   ]
  },
  {
   "cell_type": "markdown",
   "metadata": {},
   "source": [
    "#### Setting Feature and Target Variables\n",
    "**Scaling and Train-Test-Split**"
   ]
  },
  {
   "cell_type": "code",
   "execution_count": 26,
   "metadata": {},
   "outputs": [
    {
     "data": {
      "text/plain": [
       "dict_keys(['base_estimator', 'learning_rate', 'loss', 'n_estimators', 'random_state'])"
      ]
     },
     "execution_count": 26,
     "metadata": {},
     "output_type": "execute_result"
    }
   ],
   "source": [
    "# Set random seed\n",
    "np.random.seed(42)\n",
    "AdaBoostRegressor().get_params().keys()"
   ]
  },
  {
   "cell_type": "code",
   "execution_count": 27,
   "metadata": {},
   "outputs": [
    {
     "data": {
      "text/plain": [
       "GridSearchCV(cv=5, estimator=Pipeline(steps=[('ada', AdaBoostRegressor())]),\n",
       "             param_grid={'ada__learning_rate': [1, 5, 10],\n",
       "                         'ada__loss': ['linear', 'square', 'exponential'],\n",
       "                         'ada__n_estimators': [100, 150, 200]})"
      ]
     },
     "execution_count": 27,
     "metadata": {},
     "output_type": "execute_result"
    }
   ],
   "source": [
    "# Pipeline and gridsearch - ada boost\n",
    "pipe_ada = Pipeline([\n",
    "    ('ada', AdaBoostRegressor())\n",
    "])\n",
    "\n",
    "# Credit from subscription.packtub - https://subscription.packtpub.com/book/big_data_and_business_intelligence/9781787286382/9/ch09lvl1sec95/tuning-an-adaboost-regressor\n",
    "pipe_ada_params = {\n",
    "    'ada__n_estimators': [100, 150, 200],\n",
    "    'ada__learning_rate' : [1, 5, 10],\n",
    "    'ada__loss' : ['linear', 'square', 'exponential']\n",
    "}\n",
    "\n",
    "pipe_ada.fit(Z_train_rf, y_train_rf)\n",
    "gs_ada = GridSearchCV(pipe_ada, \n",
    "                        param_grid = pipe_ada_params, \n",
    "                        cv = 5)\n",
    "\n",
    "gs_ada.fit(Z_train_rf, y_train_rf)"
   ]
  },
  {
   "cell_type": "code",
   "execution_count": 28,
   "metadata": {},
   "outputs": [
    {
     "name": "stdout",
     "output_type": "stream",
     "text": [
      "Best score: 0.8681076401463461\n",
      "Best parameters: {'ada__learning_rate': 1, 'ada__loss': 'square', 'ada__n_estimators': 200}\n"
     ]
    }
   ],
   "source": [
    "print(f'Best score: {gs_ada.best_score_}')\n",
    "print(f'Best parameters: {gs_ada.best_params_}')"
   ]
  },
  {
   "cell_type": "code",
   "execution_count": 29,
   "metadata": {},
   "outputs": [
    {
     "name": "stdout",
     "output_type": "stream",
     "text": [
      "AdaBoost Training RMSE: 1.256819041583967\n",
      "AdaBoost Testing RMSE: 1.4646087154676177\n",
      "Training R2: 0.8888703391929037\n",
      "Testing R2: 0.8388456526056276\n"
     ]
    }
   ],
   "source": [
    "# Reinstantiate pipe_ada with gridsearched parameters\n",
    "pipe_ada = Pipeline([\n",
    "    ('ada', AdaBoostRegressor(learning_rate = 5, loss = 'exponential', n_estimators = 150))\n",
    "])\n",
    "pipe_ada = pipe_ada.fit(Z_train_mean, y_train_mean)\n",
    "\n",
    "ada_preds_train = gs_ada.predict(Z_train_rf)\n",
    "ada_preds_test = gs_ada.predict(Z_test_rf)\n",
    "\n",
    "print(f'AdaBoost Training RMSE: {mean_squared_error(y_train_rf, ada_preds_train, squared = False)}')\n",
    "print(f'AdaBoost Testing RMSE: {mean_squared_error(y_test_rf, ada_preds_test, squared = False)}')\n",
    "print(f'Training R2: {pipe_ada.score(Z_train_rf, y_train_rf)}')\n",
    "print(f'Testing R2: {pipe_ada.score(Z_test_rf, y_test_rf)}')"
   ]
  },
  {
   "cell_type": "code",
   "execution_count": 30,
   "metadata": {},
   "outputs": [
    {
     "data": {
      "text/html": [
       "<div>\n",
       "<style scoped>\n",
       "    .dataframe tbody tr th:only-of-type {\n",
       "        vertical-align: middle;\n",
       "    }\n",
       "\n",
       "    .dataframe tbody tr th {\n",
       "        vertical-align: top;\n",
       "    }\n",
       "\n",
       "    .dataframe thead th {\n",
       "        text-align: right;\n",
       "    }\n",
       "</style>\n",
       "<table border=\"1\" class=\"dataframe\">\n",
       "  <thead>\n",
       "    <tr style=\"text-align: right;\">\n",
       "      <th></th>\n",
       "      <th>features</th>\n",
       "      <th>coefficients</th>\n",
       "    </tr>\n",
       "  </thead>\n",
       "  <tbody>\n",
       "    <tr>\n",
       "      <th>39</th>\n",
       "      <td>percent_below_poverty</td>\n",
       "      <td>0.1754</td>\n",
       "    </tr>\n",
       "    <tr>\n",
       "      <th>16</th>\n",
       "      <td>percent_children_in_poverty</td>\n",
       "      <td>0.1424</td>\n",
       "    </tr>\n",
       "    <tr>\n",
       "      <th>44</th>\n",
       "      <td>percent_disabled</td>\n",
       "      <td>0.0853</td>\n",
       "    </tr>\n",
       "    <tr>\n",
       "      <th>6</th>\n",
       "      <td>average_number_of_mentally_unhealthy_days</td>\n",
       "      <td>0.0710</td>\n",
       "    </tr>\n",
       "    <tr>\n",
       "      <th>5</th>\n",
       "      <td>percent_fair_or_poor_health</td>\n",
       "      <td>0.0597</td>\n",
       "    </tr>\n",
       "    <tr>\n",
       "      <th>47</th>\n",
       "      <td>percentile_rank_social_vulnerability</td>\n",
       "      <td>0.0584</td>\n",
       "    </tr>\n",
       "    <tr>\n",
       "      <th>40</th>\n",
       "      <td>percent_unemployed_CDC</td>\n",
       "      <td>0.0518</td>\n",
       "    </tr>\n",
       "    <tr>\n",
       "      <th>25</th>\n",
       "      <td>median_household_income</td>\n",
       "      <td>0.0500</td>\n",
       "    </tr>\n",
       "    <tr>\n",
       "      <th>48</th>\n",
       "      <td>pct_overall_pov_19</td>\n",
       "      <td>0.0497</td>\n",
       "    </tr>\n",
       "    <tr>\n",
       "      <th>22</th>\n",
       "      <td>life_expectancy</td>\n",
       "      <td>0.0448</td>\n",
       "    </tr>\n",
       "  </tbody>\n",
       "</table>\n",
       "</div>"
      ],
      "text/plain": [
       "                                     features  coefficients\n",
       "39                      percent_below_poverty        0.1754\n",
       "16                percent_children_in_poverty        0.1424\n",
       "44                           percent_disabled        0.0853\n",
       "6   average_number_of_mentally_unhealthy_days        0.0710\n",
       "5                 percent_fair_or_poor_health        0.0597\n",
       "47       percentile_rank_social_vulnerability        0.0584\n",
       "40                     percent_unemployed_CDC        0.0518\n",
       "25                    median_household_income        0.0500\n",
       "48                         pct_overall_pov_19        0.0497\n",
       "22                            life_expectancy        0.0448"
      ]
     },
     "execution_count": 30,
     "metadata": {},
     "output_type": "execute_result"
    }
   ],
   "source": [
    "# Show ten strongest features for best testing model\n",
    "coefs_ada = pipe_ada.named_steps['ada'].feature_importances_\n",
    "model_zip = zip(feature_names_dummified, coefs_ada)\n",
    "model_zip_df = pd.DataFrame(model_zip, columns = ['features', 'coefficients'])\n",
    "model_zip_df.sort_values(by = 'coefficients', ascending = False).head(10)"
   ]
  },
  {
   "cell_type": "markdown",
   "metadata": {},
   "source": [
    "**Quick Analysis**"
   ]
  },
  {
   "cell_type": "markdown",
   "metadata": {},
   "source": [
    "RMSE does not beat linear regression for any combination of hyperparameters. This model is again overfit, but it is not close enough to production model to attempt.\n",
    "ADA Boost performed well with our data. It only showed slight signs of overfitting, which was expected.  Being a sequential learners, ADA Boost does a great job combine weaker features to enhance scores and generate different models sequentially, learning the mistakes of some runs to enhance results of the final output. The coefficients are not as easily interpreted, and since the score could not improve above our production model, and it's slow to run, it was dropped. "
   ]
  },
  {
   "cell_type": "markdown",
   "metadata": {},
   "source": [
    "<a id='sixth'></a>\n",
    "### Model 6: Support Vector Machines"
   ]
  },
  {
   "cell_type": "code",
   "execution_count": 31,
   "metadata": {},
   "outputs": [
    {
     "data": {
      "text/plain": [
       "dict_keys(['C', 'cache_size', 'coef0', 'degree', 'epsilon', 'gamma', 'kernel', 'max_iter', 'shrinking', 'tol', 'verbose'])"
      ]
     },
     "execution_count": 31,
     "metadata": {},
     "output_type": "execute_result"
    }
   ],
   "source": [
    "SVR().get_params().keys()"
   ]
  },
  {
   "cell_type": "code",
   "execution_count": 32,
   "metadata": {},
   "outputs": [
    {
     "data": {
      "text/plain": [
       "GridSearchCV(cv=5, estimator=Pipeline(steps=[('svr', SVR(kernel='linear'))]),\n",
       "             n_jobs=4, param_grid={'svr__C': [0.01, 0.1, 1, 10, 100]})"
      ]
     },
     "execution_count": 32,
     "metadata": {},
     "output_type": "execute_result"
    }
   ],
   "source": [
    "# Pipeline and gridsearch - support vector regressor\n",
    "pipe_svr = Pipeline([\n",
    "    ('svr', SVR(kernel = 'linear'))\n",
    "])\n",
    "\n",
    "pipe_svr_params = {\n",
    "    'svr__C': [.01, .1, 1, 10, 100]\n",
    "}\n",
    "\n",
    "pipe_svr.fit(Z_train_rf, y_train_rf)\n",
    "gs_svr = GridSearchCV(pipe_svr,\n",
    "                      param_grid = pipe_svr_params,\n",
    "                      cv = 5,\n",
    "                      n_jobs = 4\n",
    ")\n",
    "\n",
    "gs_svr.fit(Z_train_rf, y_train_rf)"
   ]
  },
  {
   "cell_type": "code",
   "execution_count": 33,
   "metadata": {},
   "outputs": [
    {
     "name": "stdout",
     "output_type": "stream",
     "text": [
      "Best score: 0.9340852475603445\n",
      "Best parameters: {'svr__C': 1}\n"
     ]
    }
   ],
   "source": [
    "print(f'Best score: {gs_svr.best_score_}')\n",
    "print(f'Best parameters: {gs_svr.best_params_}')"
   ]
  },
  {
   "cell_type": "code",
   "execution_count": 34,
   "metadata": {},
   "outputs": [
    {
     "name": "stdout",
     "output_type": "stream",
     "text": [
      "SVR Training RMSE: 0.9360876983328519\n",
      "SVR Testing RMSE: 0.921475776501796\n",
      "Training R2: 0.9389333179558478\n",
      "Testing R2: 0.9368655417756121\n"
     ]
    }
   ],
   "source": [
    "# Reinstantiate pipe_svr with gridsearched parameters\n",
    "pipe_svr = Pipeline([\n",
    "    ('svr', SVR(kernel = 'linear', C = 100))\n",
    "])\n",
    "pipe_svr = pipe_svr.fit(Z_train_mean, y_train_mean)\n",
    "\n",
    "svr_preds_train = gs_svr.predict(Z_train_rf)\n",
    "svr_preds_test = gs_svr.predict(Z_test_rf)\n",
    "\n",
    "print(f'SVR Training RMSE: {mean_squared_error(y_train, svr_preds_train, squared = False)}')\n",
    "print(f'SVR Testing RMSE: {mean_squared_error(y_test, svr_preds_test, squared = False)}')\n",
    "print(f'Training R2: {pipe_svr.score(Z_train_rf, y_train_rf)}')\n",
    "print(f'Testing R2: {pipe_svr.score(Z_test_rf, y_test_rf)}')"
   ]
  },
  {
   "cell_type": "code",
   "execution_count": 35,
   "metadata": {},
   "outputs": [
    {
     "data": {
      "text/html": [
       "<div>\n",
       "<style scoped>\n",
       "    .dataframe tbody tr th:only-of-type {\n",
       "        vertical-align: middle;\n",
       "    }\n",
       "\n",
       "    .dataframe tbody tr th {\n",
       "        vertical-align: top;\n",
       "    }\n",
       "\n",
       "    .dataframe thead th {\n",
       "        text-align: right;\n",
       "    }\n",
       "</style>\n",
       "<table border=\"1\" class=\"dataframe\">\n",
       "  <thead>\n",
       "    <tr style=\"text-align: right;\">\n",
       "      <th></th>\n",
       "      <th>features</th>\n",
       "      <th>coefficients</th>\n",
       "    </tr>\n",
       "  </thead>\n",
       "  <tbody>\n",
       "    <tr>\n",
       "      <th>44</th>\n",
       "      <td>percent_disabled</td>\n",
       "      <td>0.8259</td>\n",
       "    </tr>\n",
       "    <tr>\n",
       "      <th>16</th>\n",
       "      <td>percent_children_in_poverty</td>\n",
       "      <td>0.5985</td>\n",
       "    </tr>\n",
       "    <tr>\n",
       "      <th>5</th>\n",
       "      <td>percent_fair_or_poor_health</td>\n",
       "      <td>0.3827</td>\n",
       "    </tr>\n",
       "    <tr>\n",
       "      <th>45</th>\n",
       "      <td>percent_minorities</td>\n",
       "      <td>0.3368</td>\n",
       "    </tr>\n",
       "    <tr>\n",
       "      <th>34</th>\n",
       "      <td>percent_non_hispanic_white</td>\n",
       "      <td>0.3357</td>\n",
       "    </tr>\n",
       "    <tr>\n",
       "      <th>28</th>\n",
       "      <td>percent_severe_housing_cost_burden</td>\n",
       "      <td>0.2861</td>\n",
       "    </tr>\n",
       "    <tr>\n",
       "      <th>20</th>\n",
       "      <td>percent_severe_housing_problems</td>\n",
       "      <td>0.2504</td>\n",
       "    </tr>\n",
       "    <tr>\n",
       "      <th>18</th>\n",
       "      <td>percent_single_parent_households_CHR</td>\n",
       "      <td>0.2209</td>\n",
       "    </tr>\n",
       "    <tr>\n",
       "      <th>39</th>\n",
       "      <td>percent_below_poverty</td>\n",
       "      <td>0.1866</td>\n",
       "    </tr>\n",
       "    <tr>\n",
       "      <th>46</th>\n",
       "      <td>percent_limited_english_abilities</td>\n",
       "      <td>0.1804</td>\n",
       "    </tr>\n",
       "  </tbody>\n",
       "</table>\n",
       "</div>"
      ],
      "text/plain": [
       "                                features  coefficients\n",
       "44                      percent_disabled        0.8259\n",
       "16           percent_children_in_poverty        0.5985\n",
       "5            percent_fair_or_poor_health        0.3827\n",
       "45                    percent_minorities        0.3368\n",
       "34            percent_non_hispanic_white        0.3357\n",
       "28    percent_severe_housing_cost_burden        0.2861\n",
       "20       percent_severe_housing_problems        0.2504\n",
       "18  percent_single_parent_households_CHR        0.2209\n",
       "39                 percent_below_poverty        0.1866\n",
       "46     percent_limited_english_abilities        0.1804"
      ]
     },
     "execution_count": 35,
     "metadata": {},
     "output_type": "execute_result"
    }
   ],
   "source": [
    "# Show ten strongest features for best testing model - attribute error associated with coefficents. Cannot get coefficents, but since we are seeking accuracy over interpretability then that is OK.\n",
    "coefs_svr = pipe_svr.named_steps['svr'].coef_.flatten()\n",
    "model_zip = zip(feature_names_dummified, coefs_svr)\n",
    "model_zip_df = pd.DataFrame(model_zip, columns = ['features', 'coefficients'])\n",
    "model_zip_df.sort_values(by = 'coefficients', ascending = False).head(10)"
   ]
  },
  {
   "cell_type": "markdown",
   "metadata": {},
   "source": [
    "**Quick Analysis**"
   ]
  },
  {
   "cell_type": "markdown",
   "metadata": {},
   "source": [
    "RMSE does beat linear regression by about .015 on RMSE and is well fit, but given the computational requirements associated with this model it was not chosen as the production model. It's 'black box'  operations are not easily explained to customers/etc. so we dropped it in favor of our production model. "
   ]
  },
  {
   "cell_type": "markdown",
   "metadata": {},
   "source": [
    "<a id='seventh'></a>\n",
    "### Model 7: TensorFlow NN"
   ]
  },
  {
   "cell_type": "code",
   "execution_count": 36,
   "metadata": {},
   "outputs": [
    {
     "data": {
      "text/plain": [
       "<matplotlib.legend.Legend at 0x7f7f114acd90>"
      ]
     },
     "execution_count": 36,
     "metadata": {},
     "output_type": "execute_result"
    },
    {
     "data": {
      "image/png": "[encoded data removed]",
      "text/plain": [
       "<Figure size 864x576 with 1 Axes>"
      ]
     },
     "metadata": {
      "needs_background": "light"
     },
     "output_type": "display_data"
    }
   ],
   "source": [
    "rmse = RootMeanSquaredError()\n",
    "\n",
    "# Set up nn\n",
    "model = Sequential()\n",
    "\n",
    "model.add(Dense(64, input_shape = (Z_train_rf.shape[1],),\n",
    "                activation = 'relu',\n",
    "               ))\n",
    "\n",
    "model.add(BatchNormalization()) #BatchNormalization layer added from Part 7\n",
    "\n",
    "model.add(Dense(128, activation = 'relu',\n",
    "                kernel_regularizer = l2(0.01)\n",
    "               )) # Second hidden layer\n",
    "\n",
    "model.add(Dropout(0.05)) # Dropout layer 5 % to 2nd layer\n",
    "\n",
    "model.add(Dense(64, activation = 'relu', \n",
    "                kernel_regularizer = l2(0.1)\n",
    "               )) # Third hidden layer\n",
    "\n",
    "model.add(Dropout(0.20)) # Dropout layer 20 % to 3rd layer\n",
    "\n",
    "# Add output layer\n",
    "\n",
    "model.add(Dense(1, activation = None)) \n",
    "\n",
    "# Compile\n",
    "model.compile(loss = 'mse', optimizer = 'adam', metrics= [rmse,'mse'])                                     \n",
    "\n",
    "# Early_stop object\n",
    "early_stop = EarlyStopping(patience = 5)\n",
    "\n",
    "# Fit\n",
    "results_es = model.fit(Z_train_rf, y_train_rf,\n",
    "            validation_data = (Z_test_rf, y_test_rf),\n",
    "            epochs = 50, \n",
    "            verbose = 0,\n",
    "            callbacks = [early_stop])\n",
    "\n",
    "# Visualize loss\n",
    "train_loss = results_es.history['loss']\n",
    "test_loss = results_es.history['val_loss']\n",
    "train_rmse = results_es.history['root_mean_squared_error']\n",
    "\n",
    "plt.figure(figsize = (12, 8))\n",
    "plt.plot(train_loss, label = 'TF_Model Training loss', color = 'darkgreen')\n",
    "plt.plot(test_loss, label = 'TF_Model Testing loss', color = 'lightgreen')\n",
    "plt.plot(train_rmse, label = 'TF_Model RMSE', color = 'Black')\n",
    "\n",
    "plt.legend()"
   ]
  },
  {
   "cell_type": "code",
   "execution_count": 37,
   "metadata": {},
   "outputs": [
    {
     "name": "stdout",
     "output_type": "stream",
     "text": [
      "Model: \"sequential\"\n",
      "_________________________________________________________________\n",
      "Layer (type)                 Output Shape              Param #   \n",
      "=================================================================\n",
      "dense (Dense)                (None, 64)                3456      \n",
      "_________________________________________________________________\n",
      "batch_normalization (BatchNo (None, 64)                256       \n",
      "_________________________________________________________________\n",
      "dense_1 (Dense)              (None, 128)               8320      \n",
      "_________________________________________________________________\n",
      "dropout (Dropout)            (None, 128)               0         \n",
      "_________________________________________________________________\n",
      "dense_2 (Dense)              (None, 64)                8256      \n",
      "_________________________________________________________________\n",
      "dropout_1 (Dropout)          (None, 64)                0         \n",
      "_________________________________________________________________\n",
      "dense_3 (Dense)              (None, 1)                 65        \n",
      "=================================================================\n",
      "Total params: 20,353\n",
      "Trainable params: 20,225\n",
      "Non-trainable params: 128\n",
      "_________________________________________________________________\n"
     ]
    }
   ],
   "source": [
    "model.summary()"
   ]
  },
  {
   "cell_type": "code",
   "execution_count": 38,
   "metadata": {},
   "outputs": [
    {
     "name": "stdout",
     "output_type": "stream",
     "text": [
      "('Failed to import pydot. You must `pip install pydot` and install graphviz (https://graphviz.gitlab.io/download/), ', 'for `pydotprint` to work.')\n"
     ]
    }
   ],
   "source": [
    "plot_model(model, show_layer_names = True, show_shapes = True)"
   ]
  },
  {
   "cell_type": "code",
   "execution_count": 39,
   "metadata": {},
   "outputs": [
    {
     "data": {
      "text/plain": [
       "dict_keys(['loss', 'root_mean_squared_error', 'mse', 'val_loss', 'val_root_mean_squared_error', 'val_mse'])"
      ]
     },
     "execution_count": 39,
     "metadata": {},
     "output_type": "execute_result"
    }
   ],
   "source": [
    "results_es.history.keys()"
   ]
  },
  {
   "cell_type": "code",
   "execution_count": 40,
   "metadata": {},
   "outputs": [
    {
     "data": {
      "text/plain": [
       "1.7523176670074463"
      ]
     },
     "execution_count": 40,
     "metadata": {},
     "output_type": "execute_result"
    }
   ],
   "source": [
    "# TF Training RMSE\n",
    "results_es.history['root_mean_squared_error'][-1]"
   ]
  },
  {
   "cell_type": "code",
   "execution_count": 41,
   "metadata": {},
   "outputs": [
    {
     "data": {
      "text/plain": [
       "1.3918136358261108"
      ]
     },
     "execution_count": 41,
     "metadata": {},
     "output_type": "execute_result"
    }
   ],
   "source": [
    "# TF Testing RMSE\n",
    "results_es.history['val_root_mean_squared_error'][-1]"
   ]
  },
  {
   "cell_type": "markdown",
   "metadata": {},
   "source": [
    "**Quick Analysis**"
   ]
  },
  {
   "cell_type": "markdown",
   "metadata": {},
   "source": [
    "RMSE does not beat linear regression for any combination of hyperparameters. This model is overfit, but it is not close enough to production model to attempt further analysis. Is utilizing a Neuro Network for a regression problem overkill?!  Of course not!  Unfortunately though, the model did not perform as well as out production model. Sometimes, simplier IS better."
   ]
  },
  {
   "cell_type": "markdown",
   "metadata": {},
   "source": [
    "<a id='eigth'></a>\n",
    "### Model 8: Random Forest Regressor"
   ]
  },
  {
   "cell_type": "code",
   "execution_count": 42,
   "metadata": {},
   "outputs": [
    {
     "data": {
      "text/plain": [
       "GridSearchCV(cv=5, estimator=Pipeline(steps=[('rf', RandomForestRegressor())]),\n",
       "             param_grid={'rf__max_depth': [5, 10, None]})"
      ]
     },
     "execution_count": 42,
     "metadata": {},
     "output_type": "execute_result"
    }
   ],
   "source": [
    "# Pipeline and gridsearch - random forest\n",
    "RandomForestRegressor().get_params().keys()\n",
    "pipe_rf = Pipeline([\n",
    "    ('rf', RandomForestRegressor())\n",
    "])\n",
    "\n",
    "pipe_rf_params = {'rf__max_depth': [5, 10, None],\n",
    "                 }\n",
    "\n",
    "pipe_rf.fit(Z_train_rf, y_train_rf)\n",
    "gs_rf = GridSearchCV(pipe_rf,\n",
    "                     param_grid = pipe_rf_params,\n",
    "                     cv = 5)\n",
    "\n",
    "gs_rf.fit(Z_train_rf, y_train_rf)"
   ]
  },
  {
   "cell_type": "code",
   "execution_count": 43,
   "metadata": {},
   "outputs": [
    {
     "name": "stdout",
     "output_type": "stream",
     "text": [
      "Best score rf: 0.897942885546669\n",
      "Best parameters rf: {'rf__max_depth': None}\n"
     ]
    }
   ],
   "source": [
    "print(f'Best score rf: {gs_rf.best_score_}')\n",
    "print(f'Best parameters rf: {gs_rf.best_params_}')"
   ]
  },
  {
   "cell_type": "code",
   "execution_count": 44,
   "metadata": {},
   "outputs": [
    {
     "name": "stdout",
     "output_type": "stream",
     "text": [
      "Rf Training RMSE: 0.44407471780026436\n",
      "Rf Testing RMSE: 1.2568549577072832\n",
      "Rf Training R2: 0.9848224267772815\n",
      "Rf Testing R2: 0.8840326378234207\n"
     ]
    }
   ],
   "source": [
    "# Reinstantiate pipe_svr with gridsearched parameters\n",
    "pipe_rf = Pipeline([\n",
    "    ('rf', RandomForestRegressor(max_depth = None))\n",
    "])\n",
    "pipe_rf = pipe_rf.fit(Z_train_mean, y_train_mean)\n",
    "\n",
    "rf_preds_train = gs_rf.predict(Z_train_rf)\n",
    "rf_preds_test = gs_rf.predict(Z_test_rf)\n",
    "\n",
    "print(f'Rf Training RMSE: {mean_squared_error(y_train_rf, rf_preds_train, squared = False)}')\n",
    "print(f'Rf Testing RMSE: {mean_squared_error(y_test_rf, rf_preds_test, squared = False)}')\n",
    "print(f'Rf Training R2: {pipe_rf.score(Z_train_rf, y_train_rf)}')\n",
    "print(f'Rf Testing R2: {pipe_rf.score(Z_test_rf, y_test_rf)}')"
   ]
  },
  {
   "cell_type": "code",
   "execution_count": 45,
   "metadata": {},
   "outputs": [
    {
     "data": {
      "text/html": [
       "<div>\n",
       "<style scoped>\n",
       "    .dataframe tbody tr th:only-of-type {\n",
       "        vertical-align: middle;\n",
       "    }\n",
       "\n",
       "    .dataframe tbody tr th {\n",
       "        vertical-align: top;\n",
       "    }\n",
       "\n",
       "    .dataframe thead th {\n",
       "        text-align: right;\n",
       "    }\n",
       "</style>\n",
       "<table border=\"1\" class=\"dataframe\">\n",
       "  <thead>\n",
       "    <tr style=\"text-align: right;\">\n",
       "      <th></th>\n",
       "      <th>features</th>\n",
       "      <th>coefficients</th>\n",
       "    </tr>\n",
       "  </thead>\n",
       "  <tbody>\n",
       "    <tr>\n",
       "      <th>16</th>\n",
       "      <td>percent_children_in_poverty</td>\n",
       "      <td>0.4620</td>\n",
       "    </tr>\n",
       "    <tr>\n",
       "      <th>39</th>\n",
       "      <td>percent_below_poverty</td>\n",
       "      <td>0.1226</td>\n",
       "    </tr>\n",
       "    <tr>\n",
       "      <th>10</th>\n",
       "      <td>food_environment_index</td>\n",
       "      <td>0.0799</td>\n",
       "    </tr>\n",
       "    <tr>\n",
       "      <th>48</th>\n",
       "      <td>pct_overall_pov_19</td>\n",
       "      <td>0.0561</td>\n",
       "    </tr>\n",
       "    <tr>\n",
       "      <th>5</th>\n",
       "      <td>percent_fair_or_poor_health</td>\n",
       "      <td>0.0461</td>\n",
       "    </tr>\n",
       "    <tr>\n",
       "      <th>25</th>\n",
       "      <td>median_household_income</td>\n",
       "      <td>0.0457</td>\n",
       "    </tr>\n",
       "    <tr>\n",
       "      <th>44</th>\n",
       "      <td>percent_disabled</td>\n",
       "      <td>0.0330</td>\n",
       "    </tr>\n",
       "    <tr>\n",
       "      <th>6</th>\n",
       "      <td>average_number_of_mentally_unhealthy_days</td>\n",
       "      <td>0.0176</td>\n",
       "    </tr>\n",
       "    <tr>\n",
       "      <th>22</th>\n",
       "      <td>life_expectancy</td>\n",
       "      <td>0.0172</td>\n",
       "    </tr>\n",
       "    <tr>\n",
       "      <th>0</th>\n",
       "      <td>lat</td>\n",
       "      <td>0.0093</td>\n",
       "    </tr>\n",
       "  </tbody>\n",
       "</table>\n",
       "</div>"
      ],
      "text/plain": [
       "                                     features  coefficients\n",
       "16                percent_children_in_poverty        0.4620\n",
       "39                      percent_below_poverty        0.1226\n",
       "10                     food_environment_index        0.0799\n",
       "48                         pct_overall_pov_19        0.0561\n",
       "5                 percent_fair_or_poor_health        0.0461\n",
       "25                    median_household_income        0.0457\n",
       "44                           percent_disabled        0.0330\n",
       "6   average_number_of_mentally_unhealthy_days        0.0176\n",
       "22                            life_expectancy        0.0172\n",
       "0                                         lat        0.0093"
      ]
     },
     "execution_count": 45,
     "metadata": {},
     "output_type": "execute_result"
    }
   ],
   "source": [
    "# Show ten strongest features for best testing model\n",
    "coefs_rf = pipe_rf.named_steps['rf'].feature_importances_\n",
    "model_zip = zip(feature_names_dummified, coefs_rf)\n",
    "model_zip_df = pd.DataFrame(model_zip, columns = ['features', 'coefficients'])\n",
    "model_zip_df.sort_values(by = 'coefficients', ascending = False).head(10)"
   ]
  },
  {
   "cell_type": "markdown",
   "metadata": {},
   "source": [
    "**Quick Analysis**"
   ]
  },
  {
   "cell_type": "markdown",
   "metadata": {},
   "source": [
    "RMSE does not beat linear regression for any combination of hyperparameters. This model is very overfit, but it is not close enough to production model to attempt."
   ]
  },
  {
   "cell_type": "markdown",
   "metadata": {},
   "source": [
    "<a id='ninth'></a>\n",
    "### Model 9: PCA Pipeline w/ Lin Reg"
   ]
  },
  {
   "cell_type": "code",
   "execution_count": 46,
   "metadata": {},
   "outputs": [
    {
     "data": {
      "text/plain": [
       "dict_keys(['copy', 'iterated_power', 'n_components', 'random_state', 'svd_solver', 'tol', 'whiten'])"
      ]
     },
     "execution_count": 46,
     "metadata": {},
     "output_type": "execute_result"
    }
   ],
   "source": [
    "pca = PCA()\n",
    "pca.get_params().keys()"
   ]
  },
  {
   "cell_type": "code",
   "execution_count": 47,
   "metadata": {},
   "outputs": [
    {
     "data": {
      "text/plain": [
       "GridSearchCV(cv=5,\n",
       "             estimator=Pipeline(steps=[('pca', PCA()),\n",
       "                                       ('lr', LinearRegression())]),\n",
       "             param_grid={'lr__fit_intercept': [True, False],\n",
       "                         'lr__normalize': [True, False],\n",
       "                         'pca__iterated_power': [0, 1, 2, 3],\n",
       "                         'pca__n_components': [5, 7, 10, 12, 15, 20, 30, 50],\n",
       "                         'pca__random_state': [42, 2021],\n",
       "                         'pca__svd_solver': ['auto', 'full', 'arpack',\n",
       "                                             'randomized'],\n",
       "                         'pca__tol': [0, 0.1, 1],\n",
       "                         'pca__whiten': [True, False]})"
      ]
     },
     "execution_count": 47,
     "metadata": {},
     "output_type": "execute_result"
    }
   ],
   "source": [
    "# Pipeline and gridsearch - principle component analysis\n",
    "pipe_pca_lr = Pipeline([\n",
    "    ('pca', PCA()),\n",
    "    ('lr', LinearRegression()),\n",
    "])\n",
    "\n",
    "pipe_pca_lr_params = {'lr__normalize':[True, False],\n",
    "                  'lr__fit_intercept':[True, False],\n",
    "                  'pca__n_components':[5, 7, 10, 12, 15, 20, 30, 50],\n",
    "                  'pca__random_state':[42, 2021],\n",
    "                  'pca__tol':[0, 0.1, 1],\n",
    "                  'pca__whiten':[True, False],\n",
    "                  'pca__svd_solver':['auto','full', 'arpack','randomized'],\n",
    "                  'pca__iterated_power': [0, 1, 2, 3]\n",
    "                  }\n",
    "\n",
    "pipe_pca_lr.fit(Z_train_rf, y_train_rf)\n",
    "gs_pca_lr = GridSearchCV(pipe_pca_lr,\n",
    "                     param_grid = pipe_pca_lr_params,\n",
    "                     cv = 5)\n",
    "\n",
    "gs_pca_lr.fit(Z_train_rf, y_train_rf)"
   ]
  },
  {
   "cell_type": "code",
   "execution_count": 48,
   "metadata": {},
   "outputs": [
    {
     "name": "stdout",
     "output_type": "stream",
     "text": [
      "Best score rf: 0.9351836344635902\n",
      "Best parameters rf: {'lr__fit_intercept': True, 'lr__normalize': True, 'pca__iterated_power': 2, 'pca__n_components': 50, 'pca__random_state': 42, 'pca__svd_solver': 'randomized', 'pca__tol': 0, 'pca__whiten': True}\n"
     ]
    }
   ],
   "source": [
    "print(f'Best score rf: {gs_pca_lr.best_score_}')\n",
    "print(f'Best parameters rf: {gs_pca_lr.best_params_}')"
   ]
  },
  {
   "cell_type": "code",
   "execution_count": 49,
   "metadata": {},
   "outputs": [
    {
     "name": "stdout",
     "output_type": "stream",
     "text": [
      "Lr with PCA Training RMSE: 0.9282886801465976\n",
      "Lr with Testing RMSE: 0.9382862673565555\n",
      "Lr with PCA Training R2: 0.9400637137848215\n",
      "Lr with with PCA Testing R2: 0.9346336430285298\n"
     ]
    }
   ],
   "source": [
    "# Reinstantiate pipe_svr with gridsearched parameters\n",
    "pipe_pca_lr = Pipeline([\n",
    "    ('pca', PCA(iterated_power = 1, n_components = 50, random_state = 2021, svd_solver = 'randomized', tol = 0, whiten = True)),\n",
    "    ('lr', LinearRegression(fit_intercept = True, normalize = True)),\n",
    "])\n",
    "\n",
    "pipe_pca_lr.fit(Z_train_rf, y_train_rf)\n",
    "\n",
    "lr_pca_preds_train = gs_pca_lr.predict(Z_train_rf)\n",
    "lr_pca_preds_test = gs_pca_lr.predict(Z_test_rf)\n",
    "\n",
    "print(f'Lr with PCA Training RMSE: {mean_squared_error(y_train_rf, lr_pca_preds_train, squared = False)}')\n",
    "print(f'Lr with Testing RMSE: {mean_squared_error(y_test_rf, lr_pca_preds_test, squared = False)}')\n",
    "print(f'Lr with PCA Training R2: {pipe_pca_lr.score(Z_train_rf, y_train_rf)}')\n",
    "print(f'Lr with with PCA Testing R2: {pipe_pca_lr.score(Z_test_rf, y_test_rf)}')"
   ]
  },
  {
   "cell_type": "code",
   "execution_count": 50,
   "metadata": {},
   "outputs": [
    {
     "data": {
      "text/html": [
       "<div>\n",
       "<style scoped>\n",
       "    .dataframe tbody tr th:only-of-type {\n",
       "        vertical-align: middle;\n",
       "    }\n",
       "\n",
       "    .dataframe tbody tr th {\n",
       "        vertical-align: top;\n",
       "    }\n",
       "\n",
       "    .dataframe thead th {\n",
       "        text-align: right;\n",
       "    }\n",
       "</style>\n",
       "<table border=\"1\" class=\"dataframe\">\n",
       "  <thead>\n",
       "    <tr style=\"text-align: right;\">\n",
       "      <th></th>\n",
       "      <th>features</th>\n",
       "      <th>coefficients</th>\n",
       "    </tr>\n",
       "  </thead>\n",
       "  <tbody>\n",
       "    <tr>\n",
       "      <th>0</th>\n",
       "      <td>lat</td>\n",
       "      <td>3.3549</td>\n",
       "    </tr>\n",
       "    <tr>\n",
       "      <th>47</th>\n",
       "      <td>percentile_rank_social_vulnerability</td>\n",
       "      <td>0.6151</td>\n",
       "    </tr>\n",
       "    <tr>\n",
       "      <th>9</th>\n",
       "      <td>percent_adults_with_obesity</td>\n",
       "      <td>0.4530</td>\n",
       "    </tr>\n",
       "    <tr>\n",
       "      <th>4</th>\n",
       "      <td>population_density_per_sqmi</td>\n",
       "      <td>0.3974</td>\n",
       "    </tr>\n",
       "    <tr>\n",
       "      <th>3</th>\n",
       "      <td>area_sqmi</td>\n",
       "      <td>0.3901</td>\n",
       "    </tr>\n",
       "    <tr>\n",
       "      <th>43</th>\n",
       "      <td>percent_age_17_and_younger</td>\n",
       "      <td>0.3894</td>\n",
       "    </tr>\n",
       "    <tr>\n",
       "      <th>29</th>\n",
       "      <td>percent_black</td>\n",
       "      <td>0.2763</td>\n",
       "    </tr>\n",
       "    <tr>\n",
       "      <th>15</th>\n",
       "      <td>high_school_graduation_rate</td>\n",
       "      <td>0.2536</td>\n",
       "    </tr>\n",
       "    <tr>\n",
       "      <th>10</th>\n",
       "      <td>food_environment_index</td>\n",
       "      <td>0.2376</td>\n",
       "    </tr>\n",
       "    <tr>\n",
       "      <th>24</th>\n",
       "      <td>percent_limited_access_to_healthy_foods</td>\n",
       "      <td>0.2332</td>\n",
       "    </tr>\n",
       "  </tbody>\n",
       "</table>\n",
       "</div>"
      ],
      "text/plain": [
       "                                   features  coefficients\n",
       "0                                       lat        3.3549\n",
       "47     percentile_rank_social_vulnerability        0.6151\n",
       "9               percent_adults_with_obesity        0.4530\n",
       "4               population_density_per_sqmi        0.3974\n",
       "3                                 area_sqmi        0.3901\n",
       "43               percent_age_17_and_younger        0.3894\n",
       "29                            percent_black        0.2763\n",
       "15              high_school_graduation_rate        0.2536\n",
       "10                   food_environment_index        0.2376\n",
       "24  percent_limited_access_to_healthy_foods        0.2332"
      ]
     },
     "execution_count": 50,
     "metadata": {},
     "output_type": "execute_result"
    }
   ],
   "source": [
    "# Show ten strongest features for best testing model\n",
    "coefs_pca_lr = pipe_pca_lr.named_steps['lr'].coef_.flatten()\n",
    "model_zip = zip(feature_names_dummified, coefs_pca_lr)\n",
    "model_zip_df = pd.DataFrame(model_zip, columns = ['features', 'coefficients'])\n",
    "model_zip_df.sort_values(by = 'coefficients', ascending = False).head(10)"
   ]
  },
  {
   "cell_type": "markdown",
   "metadata": {},
   "source": [
    "**Quick Analysis**"
   ]
  },
  {
   "cell_type": "markdown",
   "metadata": {},
   "source": [
    "RMSE is very close to the linear regression for the best hyperparameters and is well-fit, but is not worth the computational resources to use or further refine.\n",
    "Pulling in PCA was a must for our team.  Having just begun to learn the advantages of the algo we wanted to see it in action. And... it actually performed a little better than our production model.. Just barely.  And, since the model is costly (computing) to run, and lacks appropriate interpretability.  We decided to drop it in favor of regular Linear Regression.  "
   ]
  }
 ],
 "metadata": {
  "kernelspec": {
   "display_name": "Python 3",
   "language": "python",
   "name": "python3"
  },
  "language_info": {
   "codemirror_mode": {
    "name": "ipython",
    "version": 3
   },
   "file_extension": ".py",
   "mimetype": "text/x-python",
   "name": "python",
   "nbconvert_exporter": "python",
   "pygments_lexer": "ipython3",
   "version": "3.8.5"
  }
 },
 "nbformat": 4,
 "nbformat_minor": 4
}
